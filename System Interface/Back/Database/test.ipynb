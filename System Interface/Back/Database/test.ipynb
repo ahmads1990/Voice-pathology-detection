{
 "cells": [
  {
   "cell_type": "code",
   "execution_count": 2,
   "metadata": {},
   "outputs": [],
   "source": [
    "import sqlite3\n",
    "\n",
    "# Create database and connect\n",
    "#db = sqlite3.connect(\"Database/GP.db\")"
   ]
  },
  {
   "cell_type": "code",
   "execution_count": 35,
   "metadata": {},
   "outputs": [
    {
     "name": "stdout",
     "output_type": "stream",
     "text": [
      "ID: 1\n",
      "Description: They are fortunate to have healthy vocal cords, which allow their voice to effortlessly connect and resonate with clarity and strength. They value their vocal health and confidently express their emotions, captivating audiences with ease. Their smooth and soothing tone leaves a lasting impression, as they wholeheartedly embrace the joy of vocal expression and share their talents with the world.\n",
      "Name: healthy\n",
      "Type: Type 1\n",
      "\n",
      "ID: 2\n",
      "Description: Vocal cord paralysis can be caused by a virus or inflammatory disease, thyroid cancer or other tumors, or it can be a side effect of a neurologic disease\n",
      "Name: rekurrensparese\n",
      "Type: Type 2\n",
      "\n",
      "ID: 3\n",
      "Description: A psychological trauma or other emotional issue may cause psychogenic voice disorders. In some cases, adolescent males or females resist the eventual lowering of the voice that comes with adulthood, causing a voice problem.\n",
      "Name: psychogene dysphonia\n",
      "Type: Type 3\n",
      "\n",
      "ID: 4\n",
      "Description: Smoking is the number one cause of Reinke's edema\n",
      "Name: reinke ödem\n",
      "Type: Type 4\n",
      "\n",
      "ID: 5\n",
      "Description: Velopharyngeal dysfunction (when sound and air leaks into the nose during speech) is the most common cause of Rhinolalia Aperta\n",
      "Name: rhinophonie aperta\n",
      "Type: Type 5\n",
      "\n",
      "ID: 6\n",
      "Description: The lack of mobility of the velum palatinum leads to insufficiencies in the opening and closing of the nasopharynx, so that the column of air in the nasopharynx generally resonates during speech production\n",
      "Name: rhinophonie mixta\n",
      "Type: Type 6\n",
      "\n",
      "ID: 7\n",
      "Description: No medical causes, it is called \"singer voice\"\n",
      "Name: sängerstimme\n",
      "Type: Type 7\n",
      "\n",
      "ID: 8\n",
      "Description: Astigmatism happens when your cornea or lens has a different shape than normal. The shape makes light bend differently as it enters your eye, causing a refractive error. Doctors don't know what causes astigmatism, and there's no way to prevent it\n",
      "Name: sigmatismus\n",
      "Type: Type 8\n",
      "\n",
      "ID: 9\n",
      "Description: The exact cause of spasmodic dysphonia is unknown, however, most cases result from a trigger in the brain and nervous system that can affect the voice. Sometimes it is caused by psychological stress\n",
      "Name: spasmodische dysphonie\n",
      "Type: Type 9\n",
      "\n",
      "ID: 10\n",
      "Description: This type of cancer is most common in men over the age of 70. The most important risk factor for developing vocal fold carcinoma is long-term cigarette abuse\n",
      "Name: stimmlippenkarzinom\n",
      "Type: Type 10\n",
      "\n",
      "ID: 11\n",
      "Description: Clear causes for the development of vocal fold polyps are not known, they occur mainly in middle age, more often in men and in cigarette smokers. It is also striking that these patients often put a lot of strain on their voice\n",
      "Name: stimmlippenpolyp\n",
      "Type: Type 11\n",
      "\n",
      "ID: 12\n",
      "Description: Such bulges act as resonators. These sacs, Ventriculi morgagnii, have also evolved into so-called throat sacs in some species of monkeys, such as the howler monkey and the orangutan\n",
      "Name: taschenfaltenstimme\n",
      "Type: Type 12\n",
      "\n",
      "ID: 13\n",
      "Description: Hypopharyngeal cancer is a rare type of throat cancer. Malignant (cancer) cells form in the tissues in the bottom part of the throat, called the hypopharynx. Smoking, drinking can affect the risk. Symptoms include a sore throat and ear pain\n",
      "Name: hypopharynxtumor\n",
      "Type: Type 13\n",
      "\n",
      "ID: 14\n",
      "Description: Functional dysphonia is poor voice quality without any obvious anatomical, neurological, ororganic difficulties affecting the larynx or voice box. Causes can be viral illness (including measles and mumps) and major life stress\n",
      "Name: hypotone dysphonie\n",
      "Type: Type 14\n",
      "\n",
      "ID: 15\n",
      "Description: Weakness of voice. The voice sounds permanently hoarse, and speech sounds slurred\n",
      "Name: internusschwäche\n",
      "Type: Type 15\n",
      "\n",
      "ID: 16\n",
      "Description: Intubation granuloma is a benign growth of granulation tissue in the larynx or trachea, which arises from tissue trauma due to endotracheal intubation. Symptoms include sore throat, hoarseness, and vocal fatigue following the intubation procedure\n",
      "Name: intubationsgranulom\n",
      "Type: Type 16\n",
      "\n",
      "ID: 17\n",
      "Description: Juvenile dysphonia is a voice disorder in childhood (kids). Causes include voice abuse. Symptoms include the child's voice sounding squeaky, hoarse, or raspy\n",
      "Name: juvenile dysphonie\n",
      "Type: Type 17\n",
      "\n",
      "ID: 18\n",
      "Description: Laryngocele is a congenital anomalous air sac communicating with the cavity of the larynx or displace and enlarge the false vocal cords. Symptoms include hoarseness and airway obstruction\n",
      "Name: laryngozele\n",
      "Type: Type 18\n",
      "\n",
      "ID: 19\n",
      "Description: Vocal fold leukoplakia is a white patch-like lesion that forms on the surface of one or both vocal folds. Risk factors include exposure to chronic irritation such as cigarette smoking, alcohol abuse, and environmental exposure to irritants. Symptoms include hoarseness/raspiness, rough voice quality, vocal strain, and/or vocal fatigue\n",
      "Name: leukoplakie\n",
      "Type: Type 19\n",
      "\n",
      "ID: 20\n",
      "Description: Having a vocal cord disorder can significantly impact an individual's ability to communicate and express themselves verbally. This condition, which affects the delicate vocal cords responsible for producing sound, can manifest in various ways. For instance, it may cause hoarseness, a weak or breathy voice, vocal fatigue, or even complete loss of voice. Those with a vocal cord disorder often face challenges in day-to-day interactions, as their voice may sound different or fluctuate unpredictably. Simple tasks like making phone calls, engaging in conversations, or public speaking can become sources of frustration and anxiety. However, with the support of speech therapists, medical interventions, and adaptive techniques, individuals with vocal cord disorders can learn to manage their condition and regain control over their voice. Through perseverance and a strong spirit, they find alternative means of communication, such as using voice amplifiers or technology-assisted speech devices, ensuring that their voice is heard and understood despite the obstacles they face.\n",
      "Name: pathology\n",
      "Type: Type 20\n",
      "\n"
     ]
    }
   ],
   "source": [
    "# Connect to the SQLite database\n",
    "conn = sqlite3.connect(\"GP.db\")\n",
    "cursor = conn.cursor()\n",
    "\n",
    "# Execute the SQL query to retrieve all pathologies\n",
    "cursor.execute(\"SELECT * FROM pathologies\")\n",
    "pathologies = cursor.fetchall()\n",
    "\n",
    "# Print the pathologies\n",
    "for pathology in pathologies:\n",
    "    id, description, name, type = pathology\n",
    "    print(f\"ID: {id}\")\n",
    "    print(f\"Description: {description}\")\n",
    "    print(f\"Name: {name}\")\n",
    "    print(f\"Type: {type}\")\n",
    "    print(\"\")\n",
    "\n",
    "# Close the database connection\n",
    "conn.close()"
   ]
  },
  {
   "cell_type": "code",
   "execution_count": 37,
   "metadata": {},
   "outputs": [
    {
     "name": "stdout",
     "output_type": "stream",
     "text": [
      "ID: 1\n",
      "Description: They are fortunate to have healthy vocal cords, which allow their voice to effortlessly connect and resonate with clarity and strength. They value their vocal health and confidently express their emotions, captivating audiences with ease. Their smooth and soothing tone leaves a lasting impression, as they wholeheartedly embrace the joy of vocal expression and share their talents with the world.\n",
      "Name: healthy\n",
      "Type: Type 1\n",
      "\n"
     ]
    }
   ],
   "source": [
    "# Connect to the SQLite database\n",
    "conn = sqlite3.connect(\"GP.db\")\n",
    "cursor = conn.cursor()\n",
    "name = 'healthy'\n",
    "# Execute the SQL query to retrieve all pathologies\n",
    "cursor.execute(\"SELECT * FROM pathologies WHERE name = ?\", (name,))\n",
    "pathologies = cursor.fetchall()\n",
    "\n",
    "# Print the pathologies\n",
    "for pathology in pathologies:\n",
    "    id, description, name, type = pathology\n",
    "    print(f\"ID: {id}\")\n",
    "    print(f\"Description: {description}\")\n",
    "    print(f\"Name: {name}\")\n",
    "    print(f\"Type: {type}\")\n",
    "    print(\"\")\n",
    "\n",
    "# Close the database connection\n",
    "conn.close()"
   ]
  },
  {
   "cell_type": "code",
   "execution_count": 27,
   "metadata": {},
   "outputs": [
    {
     "name": "stdout",
     "output_type": "stream",
     "text": [
      "All entries removed from the 'pathologies' table.\n"
     ]
    }
   ],
   "source": [
    "# Connect to the SQLite database\n",
    "conn = sqlite3.connect(\"GP.db\")\n",
    "cursor = conn.cursor()\n",
    "\n",
    "query = \"DELETE FROM pathologies;\"\n",
    "\n",
    "conn.execute(query)\n",
    "\n",
    "# Commit the changes\n",
    "conn.commit()\n",
    "# Close the cursor and the database connection\n",
    "cursor.close()\n",
    "conn.close()\n",
    "\n",
    "print(\"All entries removed from the 'pathologies' table.\")\n"
   ]
  },
  {
   "cell_type": "code",
   "execution_count": 34,
   "metadata": {},
   "outputs": [
    {
     "name": "stdout",
     "output_type": "stream",
     "text": [
      "Pathology inserted successfully!\n"
     ]
    }
   ],
   "source": [
    "# Connect to the SQLite database\n",
    "conn = sqlite3.connect(\"GP.db\")\n",
    "cursor = conn.cursor()\n",
    "\n",
    "query = \"\"\"\n",
    "INSERT INTO pathologies (description, name, type)\n",
    "VALUES\n",
    "    ('They are fortunate to have healthy vocal cords, which allow their voice to effortlessly connect and resonate with clarity and strength. They value their vocal health and confidently express their emotions, captivating audiences with ease. Their smooth and soothing tone leaves a lasting impression, as they wholeheartedly embrace the joy of vocal expression and share their talents with the world.', 'healthy', 'Type 1'),\n",
    "    ('Vocal cord paralysis can be caused by a virus or inflammatory disease, thyroid cancer or other tumors, or it can be a side effect of a neurologic disease', 'rekurrensparese', 'Type 2'),\n",
    "    ('A psychological trauma or other emotional issue may cause psychogenic voice disorders. In some cases, adolescent males or females resist the eventual lowering of the voice that comes with adulthood, causing a voice problem.', 'psychogene dysphonia', 'Type 3'),\n",
    "    ('Smoking is the number one cause of Reinke''s edema', 'reinke ödem', 'Type 4'),\n",
    "    ('Velopharyngeal dysfunction (when sound and air leaks into the nose during speech) is the most common cause of Rhinolalia Aperta', 'rhinophonie aperta', 'Type 5'),\n",
    "    ('The lack of mobility of the velum palatinum leads to insufficiencies in the opening and closing of the nasopharynx, so that the column of air in the nasopharynx generally resonates during speech production', 'rhinophonie mixta', 'Type 6'),\n",
    "    ('No medical causes, it is called \"singer voice\"', 'sängerstimme', 'Type 7'),\n",
    "    ('Astigmatism happens when your cornea or lens has a different shape than normal. The shape makes light bend differently as it enters your eye, causing a refractive error. Doctors don''t know what causes astigmatism, and there''s no way to prevent it', 'sigmatismus', 'Type 8'),\n",
    "    ('The exact cause of spasmodic dysphonia is unknown, however, most cases result from a trigger in the brain and nervous system that can affect the voice. Sometimes it is caused by psychological stress', 'spasmodische dysphonie', 'Type 9'),\n",
    "    ('This type of cancer is most common in men over the age of 70. The most important risk factor for developing vocal fold carcinoma is long-term cigarette abuse', 'stimmlippenkarzinom', 'Type 10'),\n",
    "    ('Clear causes for the development of vocal fold polyps are not known, they occur mainly in middle age, more often in men and in cigarette smokers. It is also striking that these patients often put a lot of strain on their voice', 'stimmlippenpolyp', 'Type 11'),\n",
    "    ('Such bulges act as resonators. These sacs, Ventriculi morgagnii, have also evolved into so-called throat sacs in some species of monkeys, such as the howler monkey and the orangutan', 'taschenfaltenstimme', 'Type 12'),\n",
    "    ('Hypopharyngeal cancer is a rare type of throat cancer. Malignant (cancer) cells form in the tissues in the bottom part of the throat, called the hypopharynx. Smoking, drinking can affect the risk. Symptoms include a sore throat and ear pain', 'hypopharynxtumor', 'Type 13'),\n",
    "    ('Functional dysphonia is poor voice quality without any obvious anatomical, neurological, ororganic difficulties affecting the larynx or voice box. Causes can be viral illness (including measles and mumps) and major life stress', 'hypotone dysphonie', 'Type 14'),\n",
    "    ('Weakness of voice. The voice sounds permanently hoarse, and speech sounds slurred', 'internusschwäche', 'Type 15'),\n",
    "    ('Intubation granuloma is a benign growth of granulation tissue in the larynx or trachea, which arises from tissue trauma due to endotracheal intubation. Symptoms include sore throat, hoarseness, and vocal fatigue following the intubation procedure', 'intubationsgranulom', 'Type 16'),\n",
    "    ('Juvenile dysphonia is a voice disorder in childhood (kids). Causes include voice abuse. Symptoms include the child''s voice sounding squeaky, hoarse, or raspy', 'juvenile dysphonie', 'Type 17'),\n",
    "    ('Laryngocele is a congenital anomalous air sac communicating with the cavity of the larynx or displace and enlarge the false vocal cords. Symptoms include hoarseness and airway obstruction', 'laryngozele', 'Type 18'),\n",
    "    ('Vocal fold leukoplakia is a white patch-like lesion that forms on the surface of one or both vocal folds. Risk factors include exposure to chronic irritation such as cigarette smoking, alcohol abuse, and environmental exposure to irritants. Symptoms include hoarseness/raspiness, rough voice quality, vocal strain, and/or vocal fatigue', 'leukoplakie', 'Type 19'),\n",
    "    ('Having a vocal cord disorder can significantly impact an individual''s ability to communicate and express themselves verbally. This condition, which affects the delicate vocal cords responsible for producing sound, can manifest in various ways. For instance, it may cause hoarseness, a weak or breathy voice, vocal fatigue, or even complete loss of voice. Those with a vocal cord disorder often face challenges in day-to-day interactions, as their voice may sound different or fluctuate unpredictably. Simple tasks like making phone calls, engaging in conversations, or public speaking can become sources of frustration and anxiety. However, with the support of speech therapists, medical interventions, and adaptive techniques, individuals with vocal cord disorders can learn to manage their condition and regain control over their voice. Through perseverance and a strong spirit, they find alternative means of communication, such as using voice amplifiers or technology-assisted speech devices, ensuring that their voice is heard and understood despite the obstacles they face.', 'pathology', 'Type 20');\n",
    "\n",
    "\"\"\"\n",
    "conn.execute(query)\n",
    "conn.commit()\n",
    "\n",
    "print(\"Pathology inserted successfully!\")\n",
    "\n",
    "# Close the database connection\n",
    "conn.close()"
   ]
  },
  {
   "cell_type": "code",
   "execution_count": 41,
   "metadata": {},
   "outputs": [],
   "source": [
    "def fetch_pathologies():\n",
    "    # Connect to the SQLite database\n",
    "    conn = sqlite3.connect(\"GP.db\")\n",
    "\n",
    "    # Create a cursor object to execute SQL commands\n",
    "    cursor = conn.cursor()\n",
    "\n",
    "    # Select all entries from the \"pathologies\" table\n",
    "    cursor.execute(\"SELECT id, name, description FROM pathologies\")\n",
    "    rows = cursor.fetchall()\n",
    "\n",
    "    # Create a dictionary to store the results\n",
    "    pathologies_dict = {}\n",
    "\n",
    "    # Process the rows and populate the dictionary\n",
    "    for row in rows:\n",
    "        pathology_id, name, description = row\n",
    "        pathologies_dict[pathology_id] = [name, description]\n",
    "\n",
    "    # Close the cursor and the database connection\n",
    "    cursor.close()\n",
    "    conn.close()\n",
    "\n",
    "    return pathologies_dict"
   ]
  },
  {
   "cell_type": "code",
   "execution_count": 54,
   "metadata": {},
   "outputs": [],
   "source": [
    "x = fetch_pathologies()"
   ]
  },
  {
   "cell_type": "code",
   "execution_count": 56,
   "metadata": {},
   "outputs": [
    {
     "data": {
      "text/plain": [
       "{1: ['healthy',\n",
       "  'They are fortunate to have healthy vocal cords, which allow their voice to effortlessly connect and resonate with clarity and strength. They value their vocal health and confidently express their emotions, captivating audiences with ease. Their smooth and soothing tone leaves a lasting impression, as they wholeheartedly embrace the joy of vocal expression and share their talents with the world.'],\n",
       " 2: ['rekurrensparese',\n",
       "  'Vocal cord paralysis can be caused by a virus or inflammatory disease, thyroid cancer or other tumors, or it can be a side effect of a neurologic disease'],\n",
       " 3: ['psychogene dysphonia',\n",
       "  'A psychological trauma or other emotional issue may cause psychogenic voice disorders. In some cases, adolescent males or females resist the eventual lowering of the voice that comes with adulthood, causing a voice problem.'],\n",
       " 4: ['reinke ödem', \"Smoking is the number one cause of Reinke's edema\"],\n",
       " 5: ['rhinophonie aperta',\n",
       "  'Velopharyngeal dysfunction (when sound and air leaks into the nose during speech) is the most common cause of Rhinolalia Aperta'],\n",
       " 6: ['rhinophonie mixta',\n",
       "  'The lack of mobility of the velum palatinum leads to insufficiencies in the opening and closing of the nasopharynx, so that the column of air in the nasopharynx generally resonates during speech production'],\n",
       " 7: ['sängerstimme', 'No medical causes, it is called \"singer voice\"'],\n",
       " 8: ['sigmatismus',\n",
       "  \"Astigmatism happens when your cornea or lens has a different shape than normal. The shape makes light bend differently as it enters your eye, causing a refractive error. Doctors don't know what causes astigmatism, and there's no way to prevent it\"],\n",
       " 9: ['spasmodische dysphonie',\n",
       "  'The exact cause of spasmodic dysphonia is unknown, however, most cases result from a trigger in the brain and nervous system that can affect the voice. Sometimes it is caused by psychological stress'],\n",
       " 10: ['stimmlippenkarzinom',\n",
       "  'This type of cancer is most common in men over the age of 70. The most important risk factor for developing vocal fold carcinoma is long-term cigarette abuse'],\n",
       " 11: ['stimmlippenpolyp',\n",
       "  'Clear causes for the development of vocal fold polyps are not known, they occur mainly in middle age, more often in men and in cigarette smokers. It is also striking that these patients often put a lot of strain on their voice'],\n",
       " 12: ['taschenfaltenstimme',\n",
       "  'Such bulges act as resonators. These sacs, Ventriculi morgagnii, have also evolved into so-called throat sacs in some species of monkeys, such as the howler monkey and the orangutan'],\n",
       " 13: ['hypopharynxtumor',\n",
       "  'Hypopharyngeal cancer is a rare type of throat cancer. Malignant (cancer) cells form in the tissues in the bottom part of the throat, called the hypopharynx. Smoking, drinking can affect the risk. Symptoms include a sore throat and ear pain'],\n",
       " 14: ['hypotone dysphonie',\n",
       "  'Functional dysphonia is poor voice quality without any obvious anatomical, neurological, ororganic difficulties affecting the larynx or voice box. Causes can be viral illness (including measles and mumps) and major life stress'],\n",
       " 15: ['internusschwäche',\n",
       "  'Weakness of voice. The voice sounds permanently hoarse, and speech sounds slurred'],\n",
       " 16: ['intubationsgranulom',\n",
       "  'Intubation granuloma is a benign growth of granulation tissue in the larynx or trachea, which arises from tissue trauma due to endotracheal intubation. Symptoms include sore throat, hoarseness, and vocal fatigue following the intubation procedure'],\n",
       " 17: ['juvenile dysphonie',\n",
       "  \"Juvenile dysphonia is a voice disorder in childhood (kids). Causes include voice abuse. Symptoms include the child's voice sounding squeaky, hoarse, or raspy\"],\n",
       " 18: ['laryngozele',\n",
       "  'Laryngocele is a congenital anomalous air sac communicating with the cavity of the larynx or displace and enlarge the false vocal cords. Symptoms include hoarseness and airway obstruction'],\n",
       " 19: ['leukoplakie',\n",
       "  'Vocal fold leukoplakia is a white patch-like lesion that forms on the surface of one or both vocal folds. Risk factors include exposure to chronic irritation such as cigarette smoking, alcohol abuse, and environmental exposure to irritants. Symptoms include hoarseness/raspiness, rough voice quality, vocal strain, and/or vocal fatigue'],\n",
       " 20: ['pathology',\n",
       "  \"Having a vocal cord disorder can significantly impact an individual's ability to communicate and express themselves verbally. This condition, which affects the delicate vocal cords responsible for producing sound, can manifest in various ways. For instance, it may cause hoarseness, a weak or breathy voice, vocal fatigue, or even complete loss of voice. Those with a vocal cord disorder often face challenges in day-to-day interactions, as their voice may sound different or fluctuate unpredictably. Simple tasks like making phone calls, engaging in conversations, or public speaking can become sources of frustration and anxiety. However, with the support of speech therapists, medical interventions, and adaptive techniques, individuals with vocal cord disorders can learn to manage their condition and regain control over their voice. Through perseverance and a strong spirit, they find alternative means of communication, such as using voice amplifiers or technology-assisted speech devices, ensuring that their voice is heard and understood despite the obstacles they face.\"]}"
      ]
     },
     "execution_count": 56,
     "metadata": {},
     "output_type": "execute_result"
    }
   ],
   "source": [
    "x"
   ]
  },
  {
   "cell_type": "code",
   "execution_count": 55,
   "metadata": {},
   "outputs": [
    {
     "name": "stdout",
     "output_type": "stream",
     "text": [
      "1\n",
      "2\n",
      "3\n",
      "4\n",
      "5\n",
      "6\n",
      "7\n",
      "8\n",
      "9\n",
      "10\n",
      "11\n",
      "12\n",
      "13\n",
      "14\n",
      "15\n",
      "16\n",
      "17\n",
      "18\n",
      "19\n",
      "20\n"
     ]
    }
   ],
   "source": [
    "for i in range(1,len(x)+1):\n",
    "    print(i)"
   ]
  }
 ],
 "metadata": {
  "kernelspec": {
   "display_name": "project",
   "language": "python",
   "name": "python3"
  },
  "language_info": {
   "codemirror_mode": {
    "name": "ipython",
    "version": 3
   },
   "file_extension": ".py",
   "mimetype": "text/x-python",
   "name": "python",
   "nbconvert_exporter": "python",
   "pygments_lexer": "ipython3",
   "version": "3.11.2"
  },
  "orig_nbformat": 4
 },
 "nbformat": 4,
 "nbformat_minor": 2
}
